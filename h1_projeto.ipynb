{
 "cells": [
  {
   "cell_type": "markdown",
   "metadata": {},
   "source": [
    "# Descrição do projeto I da UNIDADE II\n",
    "\n",
    "\n",
    "Faça um loopback de tranmissão e recepção OFDM similar a **Prática 3** do [Hands-on 1: Modulação OFDM (ortogonalidade, transmissão e recepção, desempenho em canal AWGN)](http://nbviewer.jupyter.org/github/vicentesousa/DCO2010_ComMoveis/blob/master/h1.ipynb) em Python com as seguintes mudanças:\n",
    "\n",
    "1. Eb/No como variável de entrada. Variar a Eb/No de 0 a 14 dB e calcular a variância do ruído, considerando modulação BPSK, 64-QAM e 256-QAM;\n",
    "2. Usar as funções ifft e fft para multiplexar (Tx) e demultiplexar (Rx);\n",
    "3. Fazer o gráfico da BER vs Eb/No para com OFDM e, no mesmo gráfico, o gráfico da Pe vs Eb/No (fórmula teórica) da modulação BPSK, 64-QAM e 256-QAM sem OFDM.\n",
    "\n",
    "Prepare um mini-relatório no LaTex discutindo os seguintes pontos:\n",
    "\n",
    "- Exposição da formulação matemática da probabilidade de erro de bit (Pe) teórica. Não precisa prova matemática, mas a exposição da formulação, e a citação da referência;\n",
    "- Apresentação da formulação matemática do cálculo da potẽncia do ruído para cada modulação (citar referências utilizadas);\n",
    "- Apresentação e discussão dos gráficos de desempenho: comparação de desempenho das curvas com e sem OFDM;\n",
    "- Apresentação e discussão dos gráficos de desempenho: comparação das curvas teóricas e de simulação; \n",
    "- Apresentação e discussão dos gráficos de desempenho: comparação entre o desempenho das diferentes modulações;\n",
    "\n",
    "\n",
    "## Data da entrega: 04/10/2019\n"
   ]
  }
 ],
 "metadata": {
  "kernelspec": {
   "display_name": "Python 3",
   "language": "python",
   "name": "python3"
  },
  "language_info": {
   "codemirror_mode": {
    "name": "ipython",
    "version": 3
   },
   "file_extension": ".py",
   "mimetype": "text/x-python",
   "name": "python",
   "nbconvert_exporter": "python",
   "pygments_lexer": "ipython3",
   "version": "3.4.5"
  },
  "latex_envs": {
   "LaTeX_envs_menu_present": true,
   "bibliofile": "biblio.bib",
   "cite_by": "apalike",
   "current_citInitial": 1,
   "eqLabelWithNumbers": true,
   "eqNumInitial": 1,
   "hotkeys": {
    "equation": "Ctrl-E",
    "itemize": "Ctrl-I"
   },
   "labels_anchors": false,
   "latex_user_defs": false,
   "report_style_numbering": false,
   "user_envs_cfg": false
  }
 },
 "nbformat": 4,
 "nbformat_minor": 2
}
